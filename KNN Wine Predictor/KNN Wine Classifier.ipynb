{
 "cells": [
  {
   "cell_type": "code",
   "execution_count": 1,
   "id": "dietary-bedroom",
   "metadata": {},
   "outputs": [],
   "source": [
    "'''\n",
    "Name: Lauren Fisher\n",
    "Assignment: KNN Predictor Project 3\n",
    "Class: CS323 Machine Learning\n",
    "Description: this program takes in wine data with quality targets from 1-10 and attempts to predict which \n",
    "wines will be rated good or bad quality (<6 or >6) through a KNN classifier\n",
    "'''\n",
    "#Data Manipulation\n",
    "import pandas as pd\n",
    "import numpy as np\n",
    "import matplotlib.pyplot as plt\n",
    "\n",
    "#Split Data Train and Test\n",
    "from sklearn.model_selection import train_test_split\n",
    "\n",
    "#Modelling\n",
    "from sklearn.pipeline import Pipeline\n",
    "from sklearn.neighbors import KNeighborsClassifier\n",
    "from sklearn.preprocessing import MinMaxScaler\n",
    "from sklearn.metrics import accuracy_score, classification_report"
   ]
  },
  {
   "cell_type": "code",
   "execution_count": 2,
   "id": "suitable-transition",
   "metadata": {},
   "outputs": [],
   "source": [
    "def load_data():\n",
    "    \"\"\"\n",
    "    This function reads in the wine quality data csv file into a pandas dataframe\n",
    "    \"\"\"\n",
    "    train_data = pd.read_csv('winequality-red.csv')\n",
    "    return pd.read_csv(\"winequality-red.csv\")"
   ]
  },
  {
   "cell_type": "code",
   "execution_count": 3,
   "id": "sapphire-questionnaire",
   "metadata": {},
   "outputs": [],
   "source": [
    "def standardize_data(train_data):\n",
    "    \"\"\"\n",
    "    This function standardizes the data frame (beside target) to be between 0 and 1 for each parameter\n",
    "\n",
    "    Parameters\n",
    "    ----------\n",
    "    train_data : pandas data frame\n",
    "\n",
    "    Returns\n",
    "    -------\n",
    "    pandas data frame\n",
    "\n",
    "    \"\"\"\n",
    "    #Standardization\n",
    "    from sklearn.preprocessing import StandardScaler\n",
    "    std = StandardScaler()\n",
    "    train_data.iloc[:,:-1]=std.fit_transform(train_data.iloc[:,:-1])\n",
    "    return train_data"
   ]
  },
  {
   "cell_type": "code",
   "execution_count": 4,
   "id": "jewish-thunder",
   "metadata": {},
   "outputs": [],
   "source": [
    "def pipe_data(train_data):\n",
    "    \"\"\"\n",
    "    This function separates the overall data set into 0.88:0.22 components of target and parameter and train and test parts\n",
    "\n",
    "    Parameters\n",
    "    ----------\n",
    "    train_data : pandas data frame\n",
    "\n",
    "    Returns\n",
    "    -------\n",
    "    array, array, array, array\n",
    "\n",
    "    \"\"\"\n",
    "    #Assigning dataframe to list of array values\n",
    "    X=train_data.iloc[:,:-1].values\n",
    "    Y=train_data.iloc[:,-1].values\n",
    "    from sklearn.model_selection import train_test_split\n",
    "    return train_test_split(X,Y,test_size = 0.22, random_state = 43)"
   ]
  },
  {
   "cell_type": "code",
   "execution_count": 5,
   "id": "binary-field",
   "metadata": {},
   "outputs": [],
   "source": [
    "def model_k_neighbors(x_train, y_train, x_test, y_test):\n",
    "    \"\"\"\n",
    "    This function runs the model while storing the loss rate vs the number of neighbors used \n",
    "    and plots the results in order to determine the optimal number of neighbors\n",
    "\n",
    "    Parameters\n",
    "    ----------\n",
    "    x_train : array\n",
    "    x_test : array\n",
    "    y_train : array\n",
    "    y_test : array\n",
    "\n",
    "    \"\"\"\n",
    "    loss_rate = []\n",
    "    for i in range(1, 40):\n",
    "        knn = KNeighborsClassifier(n_neighbors = i)\n",
    "        knn.fit(x_train, y_train)\n",
    "        pred_i = knn.predict(x_test)\n",
    "        loss_rate.append(np.mean(pred_i != y_test))\n",
    "\n",
    "\n",
    "    plt.figure(figsize =(10, 6))\n",
    "    plt.plot(range(1, 40), loss_rate, color ='blue',linestyle ='dashed', marker ='o',\n",
    "             markerfacecolor ='red', markersize = 10)\n",
    "\n",
    "    plt.title('Loss Rate vs. K Value')\n",
    "    plt.xlabel('K Neighbors')\n",
    "    plt.ylabel('Loss Rate')"
   ]
  },
  {
   "cell_type": "code",
   "execution_count": 6,
   "id": "fourth-yield",
   "metadata": {},
   "outputs": [],
   "source": [
    "def edit_target_classification(train_data):\n",
    "    \"\"\"\n",
    "    This function edits the quality column to have each wine of quality >6 \n",
    "    assigned to 1 and <=6 assigned to 0 and then it re splits the data into train and test sets\n",
    "\n",
    "    Parameters\n",
    "    ----------\n",
    "    train_data : pandas data frame\n",
    "\n",
    "    Returns\n",
    "    -------\n",
    "    array, array, array, array \n",
    "\n",
    "    \"\"\"\n",
    "    #If quality value is less than or eqaul to 6 then it will be in class 0\n",
    "    #If quality value is greater than 6  then it will be in class 1\n",
    "    train_data['quality'] = np.where(train_data['quality'] > 6, 1, 0)\n",
    "    train_data['quality'].value_counts()\n",
    "    x = train_data.drop(['quality'], axis = 1).values\n",
    "    y = train_data['quality'].values\n",
    "    return train_test_split(x,y,test_size = 0.3,random_state = 52)"
   ]
  },
  {
   "cell_type": "code",
   "execution_count": 7,
   "id": "radio-visit",
   "metadata": {},
   "outputs": [],
   "source": [
    "def evaluate_chosen_knn_model(neighbors, x_train, y_train, x_test, y_test):\n",
    "    \"\"\"\n",
    "    This function utilizes the optimal number of neighbors found before to retrain the model \n",
    "    and predict wine qualities (1=good and 0=bad) and then outputs an accuracy score for the predictions\n",
    "\n",
    "    Parameters\n",
    "    ----------\n",
    "    neighbors: int\n",
    "    x_train : array\n",
    "    x_test : array\n",
    "    y_train : array\n",
    "    y_test : array\n",
    "    \n",
    "    \"\"\"\n",
    "    knn = KNeighborsClassifier(n_neighbors = neighbors)\n",
    "    pipe_knn = Pipeline([('scale', MinMaxScaler()), ('knn', knn)])\n",
    "    pipe_knn.fit(x_train, y_train)\n",
    "\n",
    "    y_pred_train = pipe_knn.predict(x_train)\n",
    "    y_pred_test = pipe_knn.predict(x_test)\n",
    "    acc_score = accuracy_score(y_test,y_pred_test)\n",
    "    print(classification_report(y_test,y_pred_test))\n",
    "\n",
    "\n",
    "    print('Best Accuracy Score', acc_score)"
   ]
  },
  {
   "cell_type": "code",
   "execution_count": 8,
   "id": "ethical-wright",
   "metadata": {},
   "outputs": [],
   "source": [
    "def main():\n",
    "    \"\"\"\n",
    "    This function calls the necessary functions to train and test a KNN classifier for the optimal number\n",
    "    of neighbors for the training set and outputs accuracy statistics\n",
    "    \n",
    "    \"\"\"\n",
    "    train_data = load_data()\n",
    "    train_data = standardize_data(train_data)\n",
    "    x_train, x_test, y_train, y_test = pipe_data(train_data)\n",
    "    model_k_neighbors(x_train, y_train, x_test, y_test)\n",
    "    x_train, x_test, y_train, y_test = edit_target_classification(train_data)\n",
    "    evaluate_chosen_knn_model(14, x_train, y_train, x_test, y_test)\n",
    "    "
   ]
  },
  {
   "cell_type": "code",
   "execution_count": 9,
   "id": "worldwide-formation",
   "metadata": {},
   "outputs": [
    {
     "name": "stdout",
     "output_type": "stream",
     "text": [
      "              precision    recall  f1-score   support\n",
      "\n",
      "           0       0.88      0.97      0.92       405\n",
      "           1       0.64      0.31      0.41        75\n",
      "\n",
      "    accuracy                           0.86       480\n",
      "   macro avg       0.76      0.64      0.67       480\n",
      "weighted avg       0.84      0.86      0.84       480\n",
      "\n",
      "Best Accuracy Score 0.8645833333333334\n"
     ]
    },
    {
     "data": {
      "image/png": "[encoded data removed]",
      "text/plain": [
       "<Figure size 720x432 with 1 Axes>"
      ]
     },
     "metadata": {
      "needs_background": "light"
     },
     "output_type": "display_data"
    }
   ],
   "source": [
    "main()"
   ]
  },
  {
   "cell_type": "markdown",
   "id": "nuclear-cycling",
   "metadata": {},
   "source": []
  },
  {
   "cell_type": "code",
   "execution_count": null,
   "id": "lonely-marine",
   "metadata": {},
   "outputs": [],
   "source": []
  },
  {
   "cell_type": "code",
   "execution_count": null,
   "id": "illegal-prime",
   "metadata": {},
   "outputs": [],
   "source": []
  }
 ],
 "metadata": {
  "kernelspec": {
   "display_name": "Python 3 (ipykernel)",
   "language": "python",
   "name": "python3"
  },
  "language_info": {
   "codemirror_mode": {
    "name": "ipython",
    "version": 3
   },
   "file_extension": ".py",
   "mimetype": "text/x-python",
   "name": "python",
   "nbconvert_exporter": "python",
   "pygments_lexer": "ipython3",
   "version": "3.8.8"
  }
 },
 "nbformat": 4,
 "nbformat_minor": 5
}
