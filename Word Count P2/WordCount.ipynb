{
 "cells": [
  {
   "cell_type": "code",
   "execution_count": 1,
   "id": "potential-heritage",
   "metadata": {},
   "outputs": [],
   "source": [
    "'''\n",
    "Name: Lauren Fisher\n",
    "Date: 09/16/21\n",
    "Class: CS424\n",
    "Assignment: Word Counter Python Exercise\n",
    "Program Description: Program takes file name as input, tokenizes the file following the word rules outlined,\n",
    "and counts the number of valid words to start with a given letter and ouputs that to user.\n",
    "'''\n",
    "import string\n",
    "from string import ascii_letters\n",
    "allowed = set(ascii_letters + \"'\")"
   ]
  },
  {
   "cell_type": "code",
   "execution_count": 2,
   "id": "moderate-century",
   "metadata": {},
   "outputs": [],
   "source": [
    "## Takes valid user input for file name and prints counter for each starting letter's occurrence\n",
    "def main():\n",
    "    file_not_found = True\n",
    "    while file_not_found == True:\n",
    "        try:\n",
    "            file = input(\"What file would you like to read from? \")\n",
    "            read_file(file)\n",
    "            file_not_found = False\n",
    "        except (IOError, OSError) as e:\n",
    "            print(\"File doesn't exist\")\n",
    "            file_not_found_found = True"
   ]
  },
  {
   "cell_type": "code",
   "execution_count": 3,
   "id": "outside-lighting",
   "metadata": {},
   "outputs": [],
   "source": [
    "## Takes file name as input, tokenizes text into list of strings and increments starting letter counter if valid word\n",
    "def read_file(file_name):\n",
    "    valid_words = []\n",
    "    alphabet_count = dict.fromkeys(string.ascii_lowercase, 0)\n",
    "    with open(file_name,'r') as file:   \n",
    "        for line in file:\n",
    "            for word in line.split():          \n",
    "                if(check_valid(word) == True):\n",
    "                    valid_words.append(word)\n",
    "                    alphabet_count[word.lower()[0]] += 1\n",
    "    for key, value in alphabet_count.items():\n",
    "        print(key, \" : \", value)\n"
   ]
  },
  {
   "cell_type": "code",
   "execution_count": 4,
   "id": "planned-claim",
   "metadata": {},
   "outputs": [],
   "source": [
    "## Take word as input, word is set to be valid if it passes rules defined below\n",
    "def check_valid(word):\n",
    "    is_valid = False;\n",
    "    if (allowed.issuperset(word)): #all characters are a-z or '\n",
    "        is_valid = True;\n",
    "        if(\"'\" in word):\n",
    "            is_valid = word.find(\"'\") > 0 #invalid if ' is first letter of word\n",
    "    if (len(word) < 2):\n",
    "        is_valid = False;\n",
    "    if (word == 'I' or word == 'a' or word == 'A'):\n",
    "        is_valid = True;\n",
    "    return is_valid"
   ]
  },
  {
   "cell_type": "code",
   "execution_count": 6,
   "id": "unique-student",
   "metadata": {},
   "outputs": [
    {
     "name": "stdout",
     "output_type": "stream",
     "text": [
      "What file would you like to read from? test.rtf\n",
      "a  :  0\n",
      "b  :  1\n",
      "c  :  0\n",
      "d  :  0\n",
      "e  :  0\n",
      "f  :  0\n",
      "g  :  0\n",
      "h  :  1\n",
      "i  :  1\n",
      "j  :  0\n",
      "k  :  0\n",
      "l  :  0\n",
      "m  :  2\n",
      "n  :  0\n",
      "o  :  0\n",
      "p  :  1\n",
      "q  :  0\n",
      "r  :  0\n",
      "s  :  0\n",
      "t  :  1\n",
      "u  :  0\n",
      "v  :  0\n",
      "w  :  1\n",
      "x  :  0\n",
      "y  :  0\n",
      "z  :  0\n"
     ]
    }
   ],
   "source": [
    "main()"
   ]
  },
  {
   "cell_type": "code",
   "execution_count": null,
   "id": "short-flower",
   "metadata": {},
   "outputs": [],
   "source": []
  }
 ],
 "metadata": {
  "kernelspec": {
   "display_name": "Python 3 (ipykernel)",
   "language": "python",
   "name": "python3"
  },
  "language_info": {
   "codemirror_mode": {
    "name": "ipython",
    "version": 3
   },
   "file_extension": ".py",
   "mimetype": "text/x-python",
   "name": "python",
   "nbconvert_exporter": "python",
   "pygments_lexer": "ipython3",
   "version": "3.8.8"
  }
 },
 "nbformat": 4,
 "nbformat_minor": 5
}
